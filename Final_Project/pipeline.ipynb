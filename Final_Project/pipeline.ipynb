{
  "nbformat": 4,
  "nbformat_minor": 0,
  "metadata": {
    "colab": {
      "private_outputs": true,
      "provenance": []
    },
    "kernelspec": {
      "name": "python3",
      "display_name": "Python 3"
    },
    "language_info": {
      "name": "python"
    }
  },
  "cells": [
    {
      "cell_type": "code",
      "execution_count": null,
      "metadata": {
        "id": "Zq75v_lF5ZM4"
      },
      "outputs": [],
      "source": [
        "# Step 1 : Setup Your Environment\n",
        "!pip install torch torchvision transformers torchaudio pillow matplotlib"
      ]
    },
    {
      "cell_type": "code",
      "source": [
        "!pip install numpy --upgrade"
      ],
      "metadata": {
        "id": "iZYP9j_K9PfX"
      },
      "execution_count": null,
      "outputs": []
    },
    {
      "cell_type": "code",
      "source": [
        "!pip install --upgrade torch torchvision torchaudio transformers"
      ],
      "metadata": {
        "id": "1_X5I3ppHXXS"
      },
      "execution_count": null,
      "outputs": []
    },
    {
      "cell_type": "code",
      "source": [
        "!pip install torch torchvision torchaudio --index-url https://download.pytorch.org/whl/cu118"
      ],
      "metadata": {
        "id": "aSydsIBN9fE2"
      },
      "execution_count": null,
      "outputs": []
    },
    {
      "cell_type": "code",
      "source": [
        "# Step 2: Load Required Libraries\n",
        "import torch\n",
        "from PIL import Image"
      ],
      "metadata": {
        "id": "zv2iO67GHnFa"
      },
      "execution_count": null,
      "outputs": []
    },
    {
      "cell_type": "code",
      "source": [
        "pip install numpy==1.23.5"
      ],
      "metadata": {
        "id": "DcKffcLmICp7"
      },
      "execution_count": null,
      "outputs": []
    },
    {
      "cell_type": "code",
      "source": [
        "from transformers import CLIPProcessor, CLIPModel"
      ],
      "metadata": {
        "id": "j3JHpM295jGw"
      },
      "execution_count": null,
      "outputs": []
    },
    {
      "cell_type": "code",
      "source": [
        "import torchaudio\n",
        "import torchaudio.transforms as T"
      ],
      "metadata": {
        "id": "XTArcC1pHvSH"
      },
      "execution_count": null,
      "outputs": []
    },
    {
      "cell_type": "code",
      "source": [
        "clip_model = CLIPModel.from_pretrained(\"openai/clip-vit-base-patch32\")\n",
        "clip_processor = CLIPProcessor.from_pretrained(\"openai/clip-vit-base-patch32\")"
      ],
      "metadata": {
        "id": "XWLHt6BD6AiS"
      },
      "execution_count": null,
      "outputs": []
    },
    {
      "cell_type": "code",
      "source": [
        "from torchaudio.models.tacotron2 import Tacotron2"
      ],
      "metadata": {
        "id": "179LEQ7I6N6V"
      },
      "execution_count": null,
      "outputs": []
    },
    {
      "cell_type": "code",
      "source": [
        "pip install transformers"
      ],
      "metadata": {
        "id": "kA_v4jKO6e8l"
      },
      "execution_count": null,
      "outputs": []
    },
    {
      "cell_type": "code",
      "source": [
        "pip install TTS"
      ],
      "metadata": {
        "id": "zgpuzkTV6ofQ"
      },
      "execution_count": null,
      "outputs": []
    },
    {
      "cell_type": "code",
      "source": [
        "pip install numpy==1.23.5"
      ],
      "metadata": {
        "id": "rzgum2YjJBXU"
      },
      "execution_count": null,
      "outputs": []
    },
    {
      "cell_type": "code",
      "source": [
        "from TTS.api import TTS\n",
        "import torch\n",
        "\n",
        "tts = TTS(model_name= \"tts_models/en/ljspeech/tacotron2-DDC\", gpu=torch.cuda.is_available())\n",
        "\n",
        "def generate_voice_output_hf(medicine_name):\n",
        "    # Generate speech audio\n",
        "    tts.tts_to_file(medicine_name, file_path=\"medicine_output.wav\")\n",
        "    print(f\"Voice output saved as 'medicine_output.wav'\")"
      ],
      "metadata": {
        "id": "lPvZ1GUe7jLu"
      },
      "execution_count": null,
      "outputs": []
    },
    {
      "cell_type": "code",
      "source": [
        "from PIL import Image"
      ],
      "metadata": {
        "id": "C3X3AZnSMWQz"
      },
      "execution_count": null,
      "outputs": []
    },
    {
      "cell_type": "code",
      "source": [
        " # Step 3: Dataset Preparation\n",
        " def preprocess_image(image_path):\n",
        "    image = Image.open(image_path).convert(\"RGB\")\n",
        "    inputs = clip_processor(images=image, return_tensors=\"pt\")\n",
        "    return inputs"
      ],
      "metadata": {
        "id": "2iDJarJA8eBf"
      },
      "execution_count": null,
      "outputs": []
    },
    {
      "cell_type": "code",
      "source": [
        "# Step 4: Encode Text Prompts\n",
        "\n",
        "medicine_names = [\"Paracetamol\", \"Ibuprofen\", \"Antazol\", \"Zimacal\"]\n",
        "text_prompts = [f\"A photo of {medicine}\" for medicine in medicine_names]\n",
        "\n",
        "def encode_text(prompts):\n",
        "    text_inputs = clip_processor(text=text_prompts, return_tensors=\"pt\", padding=True)\n",
        "    text_features = clip_model.get_text_features(**text_inputs)\n",
        "    return text_features"
      ],
      "metadata": {
        "id": "_nrBZ0nPCJ_Y"
      },
      "execution_count": null,
      "outputs": []
    },
    {
      "cell_type": "code",
      "source": [
        "# Step 5: Image Recognition\n",
        "def recognize_medicine(image_path, text_features):\n",
        "    image_inputs = preprocess_image(image_path)\n",
        "    image_features = clip_model.get_image_features(**image_inputs)\n",
        "\n",
        "    # Normalize features\n",
        "    image_features = image_features / image_features.norm(dim=-1, keepdim=True)\n",
        "    text_features = text_features / text_features.norm(dim=-1, keepdim=True)\n",
        "\n",
        "    # Compute similarity scores\n",
        "    similarity = torch.matmul(image_features, text_features.T)\n",
        "    predicted_index = similarity.argmax().item()\n",
        "    predicted_name = medicine_names[predicted_index]\n",
        "    return predicted_name"
      ],
      "metadata": {
        "id": "0sNk-KK0CfCC"
      },
      "execution_count": null,
      "outputs": []
    },
    {
      "cell_type": "code",
      "source": [
        "# Step 6: Generate Voice Output\n",
        "import os\n",
        "# Directory to save the outputs\n",
        "output_dir = \"medicine_audio_outputs\"\n",
        "os.makedirs(output_dir, exist_ok=True)\n",
        "\n",
        "def generate_voice_output(medicine_name):\n",
        "    \"\"\"\n",
        "    Generate speech audio for a given medicine name and save it as a .wav file.\n",
        "    Args:\n",
        "        medicine_name (str): The name of the medicine to convert to speech.\n",
        "    \"\"\"\n",
        "    output_path = os.path.join(output_dir, f\"{medicine_name}.wav\")\n",
        "    tts.tts_to_file(text=medicine_name, file_path=output_path)\n",
        "    print(f\"Voice output for '{medicine_name}' saved to {output_path}\")"
      ],
      "metadata": {
        "id": "mc4YF1MSClbe"
      },
      "execution_count": null,
      "outputs": []
    },
    {
      "cell_type": "code",
      "source": [
        "# Step 7: Complete\n",
        "\n",
        "def pipeline(image_path):\n",
        "    # Encode text prompts\n",
        "    text_features = encode_text(text_prompts)\n",
        "\n",
        "    # Recognize medicine\n",
        "    medicine_name = recognize_medicine(image_path, text_features)\n",
        "    print(f\"Recognized Medicine: {medicine_name}\")\n",
        "\n",
        "    # Generate voice output\n",
        "    waveform = generate_voice_output(medicine_name)\n",
        "\n",
        "    # Play the voice output (Optional)\n",
        "    torchaudio.save(\"medicine_output.wav\", waveform, sample_rate=22050)\n",
        "    print(f\"Voice output saved as 'medicine_output.wav'\")"
      ],
      "metadata": {
        "id": "jgbTSQT0Cuot"
      },
      "execution_count": null,
      "outputs": []
    },
    {
      "cell_type": "code",
      "source": [
        "if __name__ == \"__main__\":\n",
        "    image_path = \"/content/medicine.jpg\"\n",
        "    pipeline(image_path)"
      ],
      "metadata": {
        "id": "99RKGd-uEcN8"
      },
      "execution_count": null,
      "outputs": []
    },
    {
      "cell_type": "code",
      "source": [
        ""
      ],
      "metadata": {
        "id": "ZPs4H7ZsJTih"
      },
      "execution_count": null,
      "outputs": []
    }
  ]
}