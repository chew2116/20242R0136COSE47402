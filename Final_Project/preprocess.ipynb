{
  "nbformat": 4,
  "nbformat_minor": 0,
  "metadata": {
    "colab": {
      "private_outputs": true,
      "provenance": []
    },
    "kernelspec": {
      "name": "python3",
      "display_name": "Python 3"
    },
    "language_info": {
      "name": "python"
    }
  },
  "cells": [
    {
      "cell_type": "code",
      "execution_count": null,
      "metadata": {
        "id": "WGKiZ7VEBiZT"
      },
      "outputs": [],
      "source": [
        "from torchvision import transforms"
      ]
    },
    {
      "cell_type": "code",
      "source": [
        "from PIL import Image"
      ],
      "metadata": {
        "id": "i0NvaGb3BndF"
      },
      "execution_count": null,
      "outputs": []
    },
    {
      "cell_type": "code",
      "source": [
        "# Step 1 : Convert Image to Tensor\n",
        "# Load the image\n",
        "image = Image.open('/content/drive/MyDrive/Deep Learning/a-blister-pack-of-paracetamol-pills-BA8BHM.jpg')"
      ],
      "metadata": {
        "id": "6RtsSjMYBwNw"
      },
      "execution_count": null,
      "outputs": []
    },
    {
      "cell_type": "code",
      "source": [
        "# Convert the image to a tensor\n",
        "transform = transforms.ToTensor()\n",
        "tensor_image = transform(image)\n",
        "\n",
        "print(tensor_image)"
      ],
      "metadata": {
        "id": "di6P2RWcCT7R"
      },
      "execution_count": null,
      "outputs": []
    },
    {
      "cell_type": "code",
      "source": [
        "# Step 2 : Normalize the Image\n",
        "# Define the mean and standard deviation\n",
        "\n",
        "mean = (0.5,)\n",
        "std = (0.5,)\n",
        "\n",
        "# Normalize the image\n",
        "normalize = transforms.Normalize(mean, std)\n",
        "normalized_image = normalize(tensor_image)\n",
        "\n",
        "print(normalized_image)"
      ],
      "metadata": {
        "id": "jUD7Tbv6ChiT"
      },
      "execution_count": null,
      "outputs": []
    }
  ]
}